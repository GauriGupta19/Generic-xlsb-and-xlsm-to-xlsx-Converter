{
 "cells": [
  {
   "cell_type": "code",
   "execution_count": 13,
   "metadata": {},
   "outputs": [
    {
     "data": {
      "text/plain": [
       "'Authors: Gauri Gupta and Ritvik Kapila'"
      ]
     },
     "execution_count": 13,
     "metadata": {},
     "output_type": "execute_result"
    }
   ],
   "source": [
    "\"\"\"Authors: Gauri Gupta and Ritvik Kapila\"\"\"\n",
    "\n",
    "# Converts a given file into xlsx format"
   ]
  },
  {
   "cell_type": "code",
   "execution_count": 14,
   "metadata": {},
   "outputs": [],
   "source": [
    "import win32com.client"
   ]
  },
  {
   "cell_type": "code",
   "execution_count": 15,
   "metadata": {},
   "outputs": [],
   "source": [
    "def to_xlsx(filepath, output_filename):\n",
    "    try:\n",
    "        excel = win32com.client.Dispatch(\"Excel.Application\")\n",
    "        excel.DisplayAlerts = False\n",
    "        excel.Visible=False\n",
    "        doc = excel.Workbooks.Open(filepath)\n",
    "        doc.SaveAs(Filename = output_filename+\".xlsx\",FileFormat=51)\n",
    "        doc.Close()\n",
    "    except:\n",
    "        print(\"Input file cannot be found\")\n",
    "        print(\"or\")\n",
    "        print(\"The file with the output filename is open. Use another file name or close the existing file.\")    "
   ]
  },
  {
   "cell_type": "code",
   "execution_count": 16,
   "metadata": {
    "scrolled": true
   },
   "outputs": [],
   "source": [
    "# Before the filepath, add an r signifying \"raw\" and will cause backslashes in the string to be interpreted as actual backslashes rather than special characters\n",
    "\n",
    "to_xlsx(r\"C:\\Users\\gauri\\Desktop\\Nokia\\Xlsb and xlsm parser\\Paging Congestion Tracker_WK-13_V1.xlsb\", r\"C:\\Users\\gauri\\Desktop\\Nokia\\Xlsb and xlsm parser\\Paging_out\")"
   ]
  },
  {
   "cell_type": "code",
   "execution_count": 17,
   "metadata": {},
   "outputs": [],
   "source": [
    "# Before the filepath, add an r signifying \"raw\" and will cause backslashes in the string to be interpreted as actual backslashes rather than special characters\n",
    "\n",
    "to_xlsx(r\"C:\\Users\\gauri\\Desktop\\Nokia\\Xlsb and xlsm parser\\LTE XML Parser ver 2 0 3_VZ Version_(16_1_2017)_Vahid-Post Check.xlsm\", r\"C:\\Users\\gauri\\Desktop\\Nokia\\Xlsb and xlsm parser\\LTE_out\")"
   ]
  }
 ],
 "metadata": {
  "kernelspec": {
   "display_name": "Python 3",
   "language": "python",
   "name": "python3"
  },
  "language_info": {
   "codemirror_mode": {
    "name": "ipython",
    "version": 3
   },
   "file_extension": ".py",
   "mimetype": "text/x-python",
   "name": "python",
   "nbconvert_exporter": "python",
   "pygments_lexer": "ipython3",
   "version": "3.7.4"
  }
 },
 "nbformat": 4,
 "nbformat_minor": 2
}
